{
 "cells": [
  {
   "cell_type": "markdown",
   "id": "7bc10f78",
   "metadata": {},
   "source": [
    "# Setup\n",
    "\n",
    "Pip install `ultralytics` and [dependencies](https://github.com/ultralytics/ultralytics/blob/main/requirements.txt) and check software and hardware."
   ]
  },
  {
   "cell_type": "code",
   "execution_count": null,
   "id": "4c6abff5",
   "metadata": {},
   "outputs": [],
   "source": [
    "%pip install ultralytics\n",
    "import ultralytics\n",
    "ultralytics.checks()"
   ]
  },
  {
   "cell_type": "markdown",
   "id": "056f0458",
   "metadata": {},
   "source": [
    "# 1. DATA\n",
    "\n",
    "You can upload the dataset from here.  \n",
    "To prepare your dataset you can use Roboflow"
   ]
  },
  {
   "cell_type": "code",
   "execution_count": null,
   "id": "492f9669",
   "metadata": {},
   "outputs": [],
   "source": [
    "!wget <PUT YOUR LINK HERE>"
   ]
  },
  {
   "cell_type": "code",
   "execution_count": null,
   "id": "a8634d1a",
   "metadata": {},
   "outputs": [],
   "source": [
    "!unzip -q <PUT YOUR DATASET LINK HERE> -d datasets && rm <PUT YOUR DATASET LINK HERE>"
   ]
  },
  {
   "cell_type": "markdown",
   "id": "9b9bc999",
   "metadata": {},
   "source": [
    "# 2. Predict\n",
    "\n",
    "YOLOv8 may be used directly in the Command Line Interface (CLI) with a `yolo` command for a variety of tasks and modes and accepts additional arguments, i.e. `imgsz=640`. See a full list of available `yolo` [arguments](https://docs.ultralytics.com/usage/cfg/) in the YOLOv8 [Docs](https://docs.ultralytics.com).\n"
   ]
  },
  {
   "cell_type": "code",
   "execution_count": null,
   "id": "1e780fa6",
   "metadata": {},
   "outputs": [],
   "source": [
    "# Load YOLOv8n, train it on COCO128 for 3 epochs and predict an image with it\n",
    "from ultralytics import YOLO\n",
    "\n",
    "model = YOLO(<PATH TO PRETRAINED MODEL HERE>)  # load a pretrained YOLOv8n detection model\n",
    "model(<IMAGE PATH YOU WANT TO PREDICT>)  # predict on an image"
   ]
  },
  {
   "cell_type": "markdown",
   "id": "e4aa2ba6",
   "metadata": {},
   "source": [
    "# 3. Train\n",
    "\n",
    "<p align=\"\"><a href=\"https://roboflow.com/?ref=ultralytics\"><img width=\"1000\" src=\"https://github.com/ultralytics/assets/raw/main/yolov8/banner-integrations.png\"/></a></p>\n",
    "\n",
    "Train YOLOv8 on [Detection](https://docs.ultralytics.com/tasks/detect/), [Segmentation](https://docs.ultralytics.com/tasks/segment/) and [Classification](https://docs.ultralytics.com/tasks/classify/) datasets."
   ]
  },
  {
   "cell_type": "code",
   "execution_count": null,
   "id": "738389a2",
   "metadata": {},
   "outputs": [],
   "source": [
    "# Train YOLOv8n on COCO128 for 3 epochs\n",
    "!yolo train model=<PUT YOUR MODEL IN PT FORMAT> data=<PUT YOUR DATA.YAML FILE> epochs=300 imgsz=640"
   ]
  },
  {
   "cell_type": "markdown",
   "id": "518415e8",
   "metadata": {},
   "source": [
    "# 4. Export\n",
    "\n",
    "Export a YOLOv8 model to any supported format with the `format` argument, i.e. `format=onnx`.\n",
    "\n",
    "- 💡 ProTip: Export to [ONNX](https://onnx.ai/) or [OpenVINO](https://docs.openvino.ai/latest/index.html) for up to 3x CPU speedup.  \n",
    "- 💡 ProTip: Export to [TensorRT](https://developer.nvidia.com/tensorrt) for up to 5x GPU speedup.\n",
    "\n",
    "\n",
    "| Format                                                                     | `format=`          | Model                     |\n",
    "|----------------------------------------------------------------------------|--------------------|---------------------------|\n",
    "| [PyTorch](https://pytorch.org/)                                            | -                  | `yolov8n.pt`              |\n",
    "| [TorchScript](https://pytorch.org/docs/stable/jit.html)                    | `torchscript`      | `yolov8n.torchscript`     |\n",
    "| [ONNX](https://onnx.ai/)                                                   | `onnx`             | `yolov8n.onnx`            |\n",
    "| [OpenVINO](https://docs.openvino.ai/latest/index.html)                     | `openvino`         | `yolov8n_openvino_model/` |\n",
    "| [TensorRT](https://developer.nvidia.com/tensorrt)                          | `engine`           | `yolov8n.engine`          |\n",
    "| [CoreML](https://github.com/apple/coremltools)                             | `coreml`           | `yolov8n.mlmodel`         |\n",
    "| [TensorFlow SavedModel](https://www.tensorflow.org/guide/saved_model)      | `saved_model`      | `yolov8n_saved_model/`    |\n",
    "| [TensorFlow GraphDef](https://www.tensorflow.org/api_docs/python/tf/Graph) | `pb`               | `yolov8n.pb`              |\n",
    "| [TensorFlow Lite](https://www.tensorflow.org/lite)                         | `tflite`           | `yolov8n.tflite`          |\n",
    "| [TensorFlow Edge TPU](https://coral.ai/docs/edgetpu/models-intro/)         | `edgetpu`          | `yolov8n_edgetpu.tflite`  |\n",
    "| [TensorFlow.js](https://www.tensorflow.org/js)                             | `tfjs`             | `yolov8n_web_model/`      |\n",
    "| [PaddlePaddle](https://github.com/PaddlePaddle)                            | `paddle`           | `yolov8n_paddle_model/`   |\n",
    "\n"
   ]
  },
  {
   "cell_type": "code",
   "execution_count": null,
   "id": "2ae7091a",
   "metadata": {},
   "outputs": [],
   "source": [
    "!yolo export model=<PUT THE MODEL YOU WANT TO EXPORT> format=torchscript"
   ]
  },
  {
   "cell_type": "markdown",
   "id": "1c5b381a",
   "metadata": {},
   "source": [
    "# 5. Python Usage\n",
    "\n",
    "YOLOv8 was reimagined using Python-first principles for the most seamless Python YOLO experience yet. YOLOv8 models can be loaded from a trained checkpoint or created from scratch. Then methods are used to train, val, predict, and export the model. See a detailed Python usage examples in the YOLOv8 [Docs](https://docs.ultralytics.com/usage/python/)."
   ]
  },
  {
   "cell_type": "code",
   "execution_count": null,
   "id": "babe77cd",
   "metadata": {},
   "outputs": [],
   "source": [
    "from ultralytics import YOLO\n",
    "\n",
    "# Load a model\n",
    "model = YOLO('yolov8n.yaml')  # build a new model from scratch\n",
    "model = YOLO(<PRETRAINED MODEL FILE PATH>)  #  (recommended for training)\n",
    "\n",
    "# Use the model\n",
    "results = model.train(data=<PUT YOUR DATA.YAML FILE>, epochs=300)  # train the model\n",
    "results = model.val()  # evaluate model performance on the validation set\n",
    "# results = model('https://ultralytics.com/images/bus.jpg')  # predict on an image\n",
    "success = model.export(format='onnx')  # export the model to ONNX format"
   ]
  },
  {
   "cell_type": "code",
   "execution_count": null,
   "id": "bd5b4e7a",
   "metadata": {},
   "outputs": [],
   "source": [
    "# Training logs\n",
    "%tensorboard --logdir runs/detect/train"
   ]
  }
 ],
 "metadata": {
  "kernelspec": {
   "display_name": "Python 3 (ipykernel)",
   "language": "python",
   "name": "python3"
  },
  "language_info": {
   "codemirror_mode": {
    "name": "ipython",
    "version": 3
   },
   "file_extension": ".py",
   "mimetype": "text/x-python",
   "name": "python",
   "nbconvert_exporter": "python",
   "pygments_lexer": "ipython3",
   "version": "3.9.16"
  }
 },
 "nbformat": 4,
 "nbformat_minor": 5
}
